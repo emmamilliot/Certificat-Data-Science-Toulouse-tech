{
  "nbformat": 4,
  "nbformat_minor": 0,
  "metadata": {
    "kernelspec": {
      "display_name": "Python 3",
      "language": "python",
      "name": "python3"
    },
    "language_info": {
      "codemirror_mode": {
        "name": "ipython",
        "version": 3
      },
      "file_extension": ".py",
      "mimetype": "text/x-python",
      "name": "python",
      "nbconvert_exporter": "python",
      "pygments_lexer": "ipython3",
      "version": "3.8.3"
    },
    "colab": {
      "name": "Copie de Projet-Optimisation.ipynb",
      "provenance": [],
      "collapsed_sections": []
    }
  },
  "cells": [
    {
      "cell_type": "markdown",
      "metadata": {
        "id": "U2Okr38Qly2A"
      },
      "source": [
        "# Développement d'un algorithme en Spark"
      ]
    },
    {
      "cell_type": "markdown",
      "metadata": {
        "id": "qBDMqDK4ly2F"
      },
      "source": [
        "# Objectif du Notebook\n",
        "Il s'agit de développer en Spark une méthode de gradient, dans le but de résoudre un problème de filtrage collaboratif, et de la comparer avec une méthode de la librairie MLIB. Ce Notebook a pour but le développement et la validation de l'approche, avant intégration et exploitation dans le cadre de l'infrastructure développée dans le projet. Pour information, de nombreuses versions de ce problème existent sur le web."
      ]
    },
    {
      "cell_type": "markdown",
      "metadata": {
        "id": "95B0askwly2H"
      },
      "source": [
        "# Position du problème\n",
        "Nous avons à notre disposition un RDD \"ratings\" du type (userID, movieID, rating). Les données sont fournies par le fichier `ratings.dat`, stockées  au format ci-joint :\n",
        "```\n",
        "UserID::MovieID::Rating::Timestamp\n",
        "```\n",
        "\n",
        "Ce RDD peut être stocké dans une matrice $R$ où l'on trouve \"rating\" à l'intersection de la ligne \"userID\" et de la colonne \"movieID\".\n",
        "Si la matrice $R$ est de taille $m \\times  n$, nous cherchons $P \\in R^{m,k}$ et $Q \\in R^{n,k}$ telles que $R \\approx \\hat{R} = PQ^T$.\n",
        "Pour cela on considère le problème\n",
        "$$ \\min_{P,Q} \\sum_{i,j : r_{ij} \\text{existe}}  \\ell_{i,j}(R,P,Q), $$\n",
        "où\n",
        "$$  \\ell_{i,j}(R,P,Q)= \\left(r_{ij} - q_{j}^{\\top}p_{i}\\right)^2 + \\lambda(|| p_{i} ||^{2}_2 + || q_{j} ||^2_2 )  $$ et $(p_i)_{1\\leq i\\leq m}$ et $(q_j)_{1\\leq j\\leq n}$ sont les lignes des matrices $P$ et $Q$ respectivement. Le paramètre $\\lambda\\geq 0$ est un paramètre de régularisation.\n",
        "\n",
        "Le problème que nous résolvons ici est un problème dit de \"filtrage collaboratif\", qui permet d'apporter une solution possible du  problème Netflix. Les données sont issues de la base de données  \"The MoviLens Datasets\" :\n",
        "\n",
        "F. Maxwell Harper and Joseph A. Konstan. 2015. The MovieLens Datasets: History and Context. ACM Transactions on Interactive Intelligent Systems (TiiS) 5, 4: 19:1–19:19\n"
      ]
    },
    {
      "cell_type": "code",
      "metadata": {
        "colab": {
          "base_uri": "https://localhost:8080/"
        },
        "id": "sswHpylIly2J",
        "outputId": "4ed69a3c-086a-4cd9-f622-d0e33fccc3d8"
      },
      "source": [
        "# Librairies\n",
        "import numpy as np\n",
        "from scipy import sparse\n",
        "\n",
        "# Environnement Spark \n",
        "# Librairies\n",
        "import numpy as np\n",
        "from scipy import sparse\n",
        "\n",
        "# Environnement Spark \n",
        "#!apt-get update\n",
        "#!apt-get install openjdk-8-jdk-headless\n",
        "#!wget -q https://www-us.apache.org/dist/spark/spark-2.4.7/spark-2.4.7-bin-hadoop2.7.tgz\n",
        "#!tar xf spark-2.4.7-bin-hadoop2.7.tgz\n",
        "\n",
        "!pip install -q pyspark\n",
        "\n",
        "from pyspark import SparkContext, SparkConf\n",
        "import pyspark"
      ],
      "execution_count": null,
      "outputs": [
        {
          "output_type": "stream",
          "text": [
            "\u001b[K     |████████████████████████████████| 204.2MB 62kB/s \n",
            "\u001b[K     |████████████████████████████████| 204kB 46.6MB/s \n",
            "\u001b[?25h  Building wheel for pyspark (setup.py) ... \u001b[?25l\u001b[?25hdone\n"
          ],
          "name": "stdout"
        }
      ]
    },
    {
      "cell_type": "code",
      "metadata": {
        "id": "NZ1os2qTly2L"
      },
      "source": [
        "\n",
        "# A modifier/commenter selon votre configuration.\n",
        "import os\n",
        "os.environ['PYSPARK_PYTHON'] = '/usr/bin/python3.6'\n",
        "\n",
        "conf = SparkConf()\n",
        "conf.setMaster(\"local[*]\")\n",
        "conf.setAppName(\"Matrix Factorization\")\n",
        "\n",
        "sc = SparkContext(conf = conf)\n"
      ],
      "execution_count": null,
      "outputs": []
    },
    {
      "cell_type": "code",
      "metadata": {
        "id": "ho5ruYA7bBoc"
      },
      "source": [
        "from google.colab import drive\r\n"
      ],
      "execution_count": null,
      "outputs": []
    },
    {
      "cell_type": "code",
      "metadata": {
        "colab": {
          "base_uri": "https://localhost:8080/"
        },
        "id": "VmUxmys5bGs8",
        "outputId": "599ba538-fe6b-4c96-b744-a011412aaa42"
      },
      "source": [
        "drive.mount('/content/drive')"
      ],
      "execution_count": null,
      "outputs": [
        {
          "output_type": "stream",
          "text": [
            "Mounted at /content/drive\n"
          ],
          "name": "stdout"
        }
      ]
    },
    {
      "cell_type": "code",
      "metadata": {
        "colab": {
          "base_uri": "https://localhost:8080/"
        },
        "id": "TkSG6tDroA-b",
        "outputId": "850c0cbc-f7b3-427d-80e0-84033c403da2"
      },
      "source": [
        "!ls /content/drive/MyDrive/data/"
      ],
      "execution_count": null,
      "outputs": [
        {
          "output_type": "stream",
          "text": [
            "gen_ratings.py\tratings.dat  README\n"
          ],
          "name": "stdout"
        }
      ]
    },
    {
      "cell_type": "markdown",
      "metadata": {
        "id": "oR8QObkFly2M"
      },
      "source": [
        "#### Création du RDD et premières statistiques sur le jeu de données."
      ]
    },
    {
      "cell_type": "code",
      "metadata": {
        "id": "CmSmGNdIly2N"
      },
      "source": [
        "# Répertoire contenant le jeu de données\n",
        "#chemin Emma \"/content/drive/MyDrive/Colab\\ Notebooks/ratings.dat\"\n",
        "# chemin Kit \"/content/drive/MyDrive/data/ratings.dat\"\n",
        "\n",
        "# ratings est un RDD du type (userID, movieID, rating)\n",
        "def parseRating(line):\n",
        "    fields = line.split('::')\n",
        "    return int(fields[0]), int(fields[1]), float(fields[2])\n",
        "\n",
        "ratingsRDD = sc.textFile(\"ratings.dat\").map(parseRating).setName(\"ratings\").cache()"
      ],
      "execution_count": null,
      "outputs": []
    },
    {
      "cell_type": "code",
      "metadata": {
        "colab": {
          "base_uri": "https://localhost:8080/"
        },
        "id": "GJSz9dfSXlT5",
        "outputId": "892a0074-50ac-4621-b2e0-c033ba54de1d"
      },
      "source": [
        "# Calcul du nombre de ratings\r\n",
        "numRatings = ratingsRDD.count()\r\n",
        "# Calcul du nombre d'utilisateurs distincts\r\n",
        "numUsers = ratingsRDD.map(lambda r: r[0]).distinct().count()\r\n",
        "# Calcul du nombre de films distincts\r\n",
        "numMovies = ratingsRDD.map(lambda r: r[1]).distinct().count()\r\n",
        "print(\"We have %d ratings from %d users on %d movies.\\n\" % (numRatings, numUsers, numMovies))\r\n",
        "\r\n",
        "# Dimensions de la matrice R\r\n",
        "M = ratingsRDD.map(lambda r: r[0]).max()\r\n",
        "N = ratingsRDD.map(lambda r: r[1]).max()\r\n",
        "matrixSparsity = float(numRatings)/float(M*N)\r\n",
        "print(\"We have %d users, %d movies and the rating matrix has %f percent of non-zero value.\\n\" % (M, N, 100*matrixSparsity))"
      ],
      "execution_count": null,
      "outputs": [
        {
          "output_type": "stream",
          "text": [
            "We have 1000209 ratings from 6040 users on 3706 movies.\n",
            "\n",
            "We have 6040 users, 3952 movies and the rating matrix has 4.190221 percent of non-zero value.\n",
            "\n"
          ],
          "name": "stdout"
        }
      ]
    },
    {
      "cell_type": "markdown",
      "metadata": {
        "id": "llBYOzmply2O"
      },
      "source": [
        "Nous allons utiliser la routine ALS.train() de la librairie  [MLLib](http://spark.apache.org/docs/latest/ml-guide.html) et en évaluer la performance par un calcul de \" Mean Squared Error\" du  rating de prédiction.\n",
        "\n",
        "__Question 1__\n",
        "\n",
        "> Commenter les lignes de code suivantes en vous inspirant du code python http://spark.apache.org/docs/latest/mllib-collaborative-filtering.html#collaborative-filtering\n",
        "\n"
      ]
    },
    {
      "cell_type": "code",
      "metadata": {
        "id": "VqgiMzvkly2P",
        "colab": {
          "base_uri": "https://localhost:8080/"
        },
        "outputId": "3dd9b24d-3f0d-48c5-eafd-2fde7f7a81fb"
      },
      "source": [
        "from pyspark.mllib.recommendation import ALS, MatrixFactorizationModel, Rating\n",
        "from pyspark.mllib.evaluation import RegressionMetrics\n",
        "\n",
        "# Construction du modèle de recommendations depuis l'approche \"Alternating Least Squares\"\n",
        "rank = 10\n",
        "numIterations = 10\n",
        "\n",
        "# Paramètres de la méthode Alternating Least Squares (ALS)\n",
        "# ratings – RDD de Rating ou tuple (userID, productID, rating).\n",
        "# rank – Rang de la matrice modèle.\n",
        "# iterations – Nombre d'itérations. (default: 5)\n",
        "# lambda_ – Paramètre de régularisation. (default: 0.01)\n",
        "model = ALS.train(ratingsRDD, rank, iterations=numIterations, lambda_=0.02)\n",
        "\n",
        "\n",
        "# Evaluation du modèle sur le jeu de données complet\n",
        "testdata = ratingsRDD.map(lambda p: (p[0], p[1])) #on selectione les users et films sans les notes attribuées \n",
        "predictions = model.predictAll(testdata).map(lambda r: ((r[0], r[1]), r[2])) #on obtient un RDD avec les notes prédites par le modèle ALS\n",
        "ratesAndPreds = ratingsRDD.map(lambda r: ((r[0], r[1]), r[2])).join(predictions) #jointure en un RDD tel que ((users,movies),(notespredites,notesattribuées))\n",
        "MSE = ratesAndPreds.map(lambda r: (r[1][0] - r[1][1])**2).mean() #mse calcule donc (notespredites-notesattribuées)^2\n",
        "print(\"Mean Squared Error = \" + str(MSE))"
      ],
      "execution_count": null,
      "outputs": [
        {
          "output_type": "stream",
          "text": [
            "Mean Squared Error = 0.5861271603418868\n"
          ],
          "name": "stdout"
        }
      ]
    },
    {
      "cell_type": "markdown",
      "metadata": {
        "id": "c6phEXCTly2R"
      },
      "source": [
        "#  Algorithmes de descente de gradient\n",
        "\n",
        "Le but de cette section est  \n",
        "1. de calculer le gradient de la fonction,\n",
        "2. d'implémenter une méthode de gradient,\n",
        "3. de mesurer la précision de cette méthode\n",
        "\n",
        "__Question 2__\n",
        "\n",
        "> Séparer le jeu de données en un jeu d'apprentissage (70%) et un jeu de test, en utilisant la fonction randomsplit ( http://spark.apache.org/docs/2.0.0/api/python/pyspark.html )\n",
        "\n",
        "> Compléter la routine ci-dessous qui retourne le \"rating\" prédit. Créer un RDD contenant `(i,j,true rating,predicted rating)`. \n",
        "\n",
        "> Compléter la routine qui calcule le Mean Square Error (MSE) sur le jeu de données.\n",
        "\n",
        "> Tester ensuite la routine de MSE en vous donnant les matrices $P$ et $Q$ aléatoires (utiliser np.random.rand(M,K)) et calculer quelques \"ratings\" prédits. \n",
        "\n"
      ]
    },
    {
      "cell_type": "code",
      "metadata": {
        "id": "82dZeTEvly2S"
      },
      "source": [
        "# Séparation du jeu de données en un jeu d'apprentissage et un jeu de test\n",
        "# Taille du jeu d'apprentissage (en %) \n",
        "learningWeight = 0.7\n",
        "# TO DO\n",
        "# Création des RDD \"apprentissage\" et \"test\" depuis la fonction randomsplit\n",
        "\n",
        "trainRDD,testRDD=ratingsRDD.randomSplit([learningWeight,1-learningWeight])\n",
        "\n",
        "# Calcul du rating prédit.\n",
        "def predictedRating(x, P, Q):\n",
        "    \"\"\" \n",
        "    This function computes predicted rating\n",
        "    Args:\n",
        "        x: tuple (UserID, MovieID, Rating)\n",
        "        P: user's features matrix (M by K)\n",
        "        Q: item's features matrix (N by K)\n",
        "    Returns:\n",
        "        predicted rating: l\n",
        "    \"\"\"\n",
        "\n",
        "    #### TO DOfirssd\n",
        "    userID=x[0]\n",
        "    movieID=x[1]\n",
        "    PP=P[userID-1,:]  # On extrait la ligne correspondant aux caractéristiques de l'user d'ID userID de x\n",
        "    QQ=Q[movieID-1,:] # On extrait la ligne correspondant au film d'ID movieID de x\n",
        "    predictedrate=np.dot(PP,QQ) #On fait le produit scalaire qui vaut la note prédite\n",
        "    return predictedrate\n",
        "\n",
        "\n",
        "# Calcul de l'erreur MSE \n",
        "def computeMSE(rdd, P, Q):\n",
        "    \"\"\" \n",
        "    This function computes Mean Square Error (MSE)\n",
        "    Args:\n",
        "        rdd: RDD(UserID, MovieID, Rating)\n",
        "        P: user's features matrix (M by K)\n",
        "        Q: item's features matrix (N by K)\n",
        "    Returns:\n",
        "        mse: mean square error \n",
        "    \"\"\" \n",
        "    ##### TO DO\n",
        "    predictions2 = rdd.map(lambda r: ((r[0], r[1]), (r[2], predictedRating(r,P,Q))))\n",
        "    mse = predictions2.map(lambda r: (r[1][0] - r[1][1])**2).mean()\n",
        "    return mse"
      ],
      "execution_count": null,
      "outputs": []
    },
    {
      "cell_type": "code",
      "metadata": {
        "id": "hGb5Ibl2ly2T",
        "colab": {
          "base_uri": "https://localhost:8080/"
        },
        "outputId": "c2c5a279-b481-4e7b-c624-a9b788ff3533"
      },
      "source": [
        "# Tailles des jeux de données d'apprentissage et de tests.\n",
        "print(\"Size of the training dataset:\", trainRDD.count())\n",
        "print(\"Size of the testing dataset:\", testRDD.count())\n",
        "\n",
        "\n",
        "# Création de matrices aléatoires de dimension (M,K) et (N,K)\n",
        "K = 20 \n",
        "\n",
        "# TO DO\n",
        "\n",
        "M = ratingsRDD.map(lambda r: r[0]).max()\n",
        "N = ratingsRDD.map(lambda r: r[1]).max()\n",
        "P=np.random.rand(M,K)\n",
        "Q=np.random.rand(N,K)\n",
        "\n",
        "#Création du RDD contenant (i,j,true rating,predicted rating).\n",
        "\n",
        "newRDDpred=ratingsRDD.map(lambda r: (r[0], r[1], r[2], predictedRating(r,P,Q)))\n",
        "\n",
        "# Calcul et affichage de l'erreur MSE pour ces matrices aléatoires\n",
        "#### TO DO\n",
        "MSE=computeMSE(trainRDD,P,Q)\n",
        "print(\"le MSE est de\",MSE )\n",
        "\n",
        "# Affichage de quelques ratings prédits depuis ces matrices\n",
        "#### TO DO\n",
        "print(\"((userID, movieID, rating), ratingpredicted)\")\n",
        "NB=5            #Nombre de rating qu'on souhaite afficher \n",
        "for i in range(NB): \n",
        "  print((trainRDD.take(NB)[i],predictedRating(trainRDD.take(NB)[i],P,Q)))\n"
      ],
      "execution_count": null,
      "outputs": [
        {
          "output_type": "stream",
          "text": [
            "Size of the training dataset: 701049\n",
            "Size of the testing dataset: 299160\n",
            "le MSE est de 4.252717750222826\n",
            "((userID, movieID, rating), ratingpredicted)\n",
            "((1, 1193, 5.0), 4.720388501300859)\n",
            "((1, 661, 3.0), 3.750005467680315)\n",
            "((1, 914, 3.0), 4.202686036303896)\n",
            "((1, 3408, 4.0), 3.8956734574771397)\n",
            "((1, 1197, 3.0), 3.8387613154188336)\n"
          ],
          "name": "stdout"
        }
      ]
    },
    {
      "cell_type": "markdown",
      "metadata": {
        "collapsed": true,
        "id": "FmWniIialy2U"
      },
      "source": [
        "__Question 3__\n",
        "\n",
        "> Donner la formule des dérivées des fonctions $\\ell_{i,j}$ selon $p_t$ et $q_s$ avec $1\\leq t\\leq m$ et $1\\leq s\\leq n$.\n",
        "\n",
        "> Commenter et compléter l'implantation de l'algorithme de gradient sur l'ensemble d'apprentissage. Prendre un pas égal à $\\gamma=0.001$ et arrêter sur un nombre maximum d'itérations. \n",
        "\n",
        "> Commenter les tracés de convergence et des indicateurs de qualité de la prévision en fonction de la dimension latente (rang de $P$ et $Q$)."
      ]
    },
    {
      "cell_type": "markdown",
      "metadata": {
        "id": "vkyeEdrA1vun"
      },
      "source": [
        "**Formules des dérivées :**\r\n",
        "(calculées à partir de la définition de la dérivée)\r\n",
        "\r\n",
        "Δpl(r, p,q) = 2 λ p - 2 r q + 2 q <p,q>\r\n",
        " \r\n",
        "Δql(r, p,q) = 2 λ q - 2 r p + 2 p <p,q>"
      ]
    },
    {
      "cell_type": "code",
      "metadata": {
        "collapsed": true,
        "id": "rf9CzV9zly2V"
      },
      "source": [
        "# Algorithem de descente de gradient pour la factorisation de matrices\n",
        "def GD(trainRDD, K=10, MAXITER=50, GAMMA=0.001, LAMBDA=0.05):\n",
        "    # Construction de la matrice R (creuse)\n",
        "    row=[]\n",
        "    col=[]\n",
        "    data=[]\n",
        "    for part in trainRDD.collect():\n",
        "        row.append(part[0]-1)\n",
        "        col.append(part[1]-1)\n",
        "        data.append(part[2])\n",
        "    R=sparse.csr_matrix((data, (row, col))) #création de la matrice creuse tel que la note du user i sur le film j soit aux coordonées (i,j)\n",
        "    \n",
        "    # Initialisation aléatoire des matrices P et Q\n",
        "    M,N = R.shape\n",
        "    P = np.random.rand(M,K)\n",
        "    Q = np.random.rand(N,K)\n",
        "    \n",
        "    # Calcul de l'erreur MSE initiale\n",
        "    mse=[]\n",
        "    mse_tmp = computeMSE(trainRDD, P, Q) #calcul du MSE avec P et Q aléatoires et non optimisés\n",
        "    mse.append([0, mse_tmp])\n",
        "    print(\"epoch: \", str(0), \" - MSE: \", str(mse_tmp))\n",
        "    \n",
        "    # Boucle\n",
        "    nonzero = R.nonzero() #liste les indices des notes attribuées sous la forme ([indices des x], [indices des y])\n",
        "    nbNonZero = R.nonzero()[0].size #calcul du nombre de notes attribuées\n",
        "    I,J = nonzero[0], nonzero[1] #récupération des indices sous deux listes \n",
        "    for epoch in range(MAXITER): #boucle qui représente le nombre d'itération de la descente de gradient \n",
        "        for i,j in zip(I,J): #boucle correspondant aux modifications de chaque ligne des matrices P et Q\n",
        "          # Mise à jour de P[i,:] et Q[j,:] par descente de gradient à pas fixe\n",
        "          #### TO DO\n",
        "          #Δpl(r, p,q)=2 λ p - 2 r q + 2 q <p,q>\n",
        "          #Δql(r, p,q)=2 λ q - 2 r p + 2 p <p,q>\n",
        "          deltapL = 2*LAMBDA*P[i,:] - 2*R[i,j]*Q[j,:] + 2*Q[j,:]*np.dot(P[i,:],Q[j,:])\n",
        "          deltaqL = 2*LAMBDA*Q[j,:] - 2*R[i,j]*P[i,:] + 2*P[i,:]*np.dot(P[i,:],Q[j,:])\n",
        "          P[i,:] = P[i,:]-GAMMA*deltapL\n",
        "          Q[j,:] = Q[j,:]-GAMMA*deltaqL\n",
        "\n",
        "        # Calcul de l'erreur MSE courante, et sauvegarde dans le tableau mse \n",
        "        #### TO DO\n",
        "        valeurmse = computeMSE(trainRDD, P, Q)\n",
        "        mse.append([epoch+1, valeurmse])\n",
        "        print(\"epoch: \", epoch+1, \" - MSE: \", str(valeurmse))\n",
        "    return P, Q, mse"
      ],
      "execution_count": null,
      "outputs": []
    },
    {
      "cell_type": "code",
      "metadata": {
        "id": "NBQWNEzJly2W",
        "colab": {
          "base_uri": "https://localhost:8080/"
        },
        "outputId": "7d22a059-275b-463e-beb2-f0ffb3fe0520"
      },
      "source": [
        "# Calcul de P, Q et de la mse\n",
        "P,Q,mse = GD(trainRDD, K=10, MAXITER=10, GAMMA=0.001, LAMBDA=0.05)"
      ],
      "execution_count": null,
      "outputs": [
        {
          "output_type": "stream",
          "text": [
            "epoch:  0  - MSE:  2.9098211886584093\n",
            "epoch:  1  - MSE:  1.0274107941318649\n",
            "epoch:  2  - MSE:  0.8987779992340345\n",
            "epoch:  3  - MSE:  0.8634994477689986\n",
            "epoch:  4  - MSE:  0.845740237933141\n",
            "epoch:  5  - MSE:  0.8349615578262318\n",
            "epoch:  6  - MSE:  0.8277415861811318\n",
            "epoch:  7  - MSE:  0.822580292779876\n",
            "epoch:  8  - MSE:  0.8187061101180527\n",
            "epoch:  9  - MSE:  0.8156800730225272\n",
            "epoch:  10  - MSE:  0.8132341321344188\n"
          ],
          "name": "stdout"
        }
      ]
    },
    {
      "cell_type": "code",
      "metadata": {
        "id": "MRqY6tWMly2Y",
        "colab": {
          "base_uri": "https://localhost:8080/",
          "height": 283
        },
        "outputId": "191d7825-3c6a-47dd-cb98-27cd67f41ec0"
      },
      "source": [
        "import matplotlib.pyplot as plt \n",
        "\n",
        "# Affichage de l'erreur MSE\n",
        "#### TO DO\n",
        "x=[]\n",
        "y=[]\n",
        "for i in range(len(mse)): \n",
        "  x.append(mse[i][0])\n",
        "  y.append(mse[i][1])\n",
        "plt.plot(x,y)"
      ],
      "execution_count": null,
      "outputs": [
        {
          "output_type": "execute_result",
          "data": {
            "text/plain": [
              "[<matplotlib.lines.Line2D at 0x7f1bc299dc88>]"
            ]
          },
          "metadata": {
            "tags": []
          },
          "execution_count": 12
        },
        {
          "output_type": "display_data",
          "data": {
            "image/png": "[encoded data removed]",
            "text/plain": [
              "<Figure size 432x288 with 1 Axes>"
            ]
          },
          "metadata": {
            "tags": [],
            "needs_background": "light"
          }
        }
      ]
    },
    {
      "cell_type": "markdown",
      "metadata": {
        "id": "_QdZPgtjly2Z"
      },
      "source": [
        "__Question 4__\n",
        "\n",
        "> Calculer les ratings prédits par la solution de la méthode du gradient dans un RDD\n",
        "\n",
        "> Comparer sur le jeu de test les valeurs prédites aux ratings sur 5 échantillons aléatoires."
      ]
    },
    {
      "cell_type": "code",
      "metadata": {
        "id": "43ZsRSCxly2Z"
      },
      "source": [
        "# Calcul et affichage des ratings prédits\n",
        "#### TO DO\n",
        "#P et Q sont les nouvelles matrices issues de la méthode du gradient\n",
        "ratingGrad=ratingsRDD.map(lambda r: ((r[0], r[1]), (r[2], predictedRating(r,P,Q))))\n",
        "\n",
        "\n",
        "NB=5            #Nombre de rating qu'on souhaite afficher \n",
        "x=np.random.randint(numRatings,size=NB) # on génère 5 nombres aléatoires entre 0 et numRatings\n",
        "grad=[] #prédiction par la méthode de descente de gradient \n",
        "als=[]  #prédiction par la méthode ALS\n",
        "#for i in x: \n",
        " # print(\"grad\",(ratingGrad.take(max(x)+1)[i]))\n",
        "  #print(\"als\",(predictions.take(max(x)+1)[i]))\n",
        "  #grad.append(ratingGrad.take(max(x)+1)[i])\n",
        "  #als.append(predictions.take(max(x)+1)[i])\n",
        "\n",
        "\n",
        "for i in x: \n",
        "  als.append(ratesAndPreds.take(max(x)+1)[i])\n",
        "\n",
        "for k in range(len(als)):\n",
        "  grad.append((als[k][0],predictedRating(als[k][0],P,Q)))\n",
        "\n"
      ],
      "execution_count": null,
      "outputs": []
    },
    {
      "cell_type": "code",
      "metadata": {
        "colab": {
          "base_uri": "https://localhost:8080/"
        },
        "id": "WO9tXM5XurRY",
        "outputId": "38885d99-33e5-4172-e08e-51986976e83a"
      },
      "source": [
        "#print(\"((userID, movieID, rating), ratingpredicted)\")\r\n",
        "#print(als)\r\n",
        "#print(grad)\r\n",
        "for j in range(len(als)):\r\n",
        "  print(\"pour le couple\", als[j][0], \"la note donnée est \",als[j][1][0],\"l'estimation avec la méthode gradient\",grad[j][1],\"avec la méthode als\", als[j][1][1])\r\n"
      ],
      "execution_count": null,
      "outputs": [
        {
          "output_type": "stream",
          "text": [
            "pour le couple (5795, 955) la note donnée est  4.0 l'estimation avec la méthode gradient 3.842141840719003 avec la méthode als 4.537545200066474\n",
            "pour le couple (2116, 1198) la note donnée est  4.0 l'estimation avec la méthode gradient 4.831802741245416 avec la méthode als 4.533166903632617\n",
            "pour le couple (1168, 2395) la note donnée est  4.0 l'estimation avec la méthode gradient 3.7036159701197446 avec la méthode als 3.8252234708366393\n",
            "pour le couple (5683, 1197) la note donnée est  4.0 l'estimation avec la méthode gradient 4.542558851273726 avec la méthode als 3.7555868719424805\n",
            "pour le couple (1449, 1713) la note donnée est  3.0 l'estimation avec la méthode gradient 2.480432559111568 avec la méthode als 2.599031191798435\n"
          ],
          "name": "stdout"
        }
      ]
    },
    {
      "cell_type": "code",
      "metadata": {
        "colab": {
          "base_uri": "https://localhost:8080/",
          "height": 285
        },
        "id": "YuMDUkeUwQel",
        "outputId": "d0554440-6b26-4364-ac19-7f54555143f8"
      },
      "source": [
        "Ygived=[]\n",
        "Ygrad=[]\n",
        "Yals=[]\n",
        "X=[]\n",
        "for j in range(NB):\n",
        "  X.append(j+1)\n",
        "  Ygived.append(als[j][1][0])\n",
        "  Ygrad.append(grad[j][1])\n",
        "  Yals.append(als[j][1][1])\n",
        "\n",
        "plt.plot(X,Ygived,'bo',label='la note donnée')\n",
        "plt.plot(X,Ygrad,'gs', label ='méthode du gradient')\n",
        "plt.plot(X,Yals,'r^',label ='méthode ALS')\n",
        "axes = plt.gca()\n",
        "axes.set_xlim(0, 6) \n",
        "axes.set_ylim(0, 6) \n",
        "plt.legend()\n",
        "#la note donnée est représentée en  ronds bleu\n",
        "#la note obtenue par la méthode du gradient est représentée en carrés vert\n",
        "#la note obtenue par la méthode ALS est représentée en triangles rouges"
      ],
      "execution_count": null,
      "outputs": [
        {
          "output_type": "execute_result",
          "data": {
            "text/plain": [
              "<matplotlib.legend.Legend at 0x7f1bc4a927b8>"
            ]
          },
          "metadata": {
            "tags": []
          },
          "execution_count": 16
        },
        {
          "output_type": "display_data",
          "data": {
            "image/png": "[encoded data removed]",
            "text/plain": [
              "<Figure size 432x288 with 1 Axes>"
            ]
          },
          "metadata": {
            "tags": [],
            "needs_background": "light"
          }
        }
      ]
    },
    {
      "cell_type": "code",
      "metadata": {
        "colab": {
          "base_uri": "https://localhost:8080/",
          "height": 281
        },
        "id": "a5TviJb6vngw",
        "outputId": "3505e1dd-70e2-4599-b419-a1f8fa86f460"
      },
      "source": [
        "erreurGrad = [abs(Delt - Gelt) for Delt, Gelt in zip(Ygived,Ygrad)]\n",
        "erreurALS = [abs(Delt - Aelt) for Delt, Aelt in zip(Ygived,Yals)]\n",
        "barWidth = 0.4\n",
        "gg = range(len(erreurGrad))\n",
        "aa = [x + barWidth for x in gg]\n",
        "\n",
        "plt.bar(gg, erreurGrad, width = barWidth, color = ['green' for i in erreurGrad],label='erreur avec la méthode gradient')\n",
        "plt.bar(aa, erreurALS, width = barWidth, color = ['red' for i in erreurALS], label='erreur avec ALS')\n",
        "plt.xticks([r + barWidth / 2 for r in range(len(erreurGrad))], ['1', '2', '3', '4','5'])\n",
        "plt.legend()"
      ],
      "execution_count": null,
      "outputs": [
        {
          "output_type": "execute_result",
          "data": {
            "text/plain": [
              "<matplotlib.legend.Legend at 0x7f1bc4a11400>"
            ]
          },
          "metadata": {
            "tags": []
          },
          "execution_count": 17
        },
        {
          "output_type": "display_data",
          "data": {
            "image/png": "[encoded data removed]",
            "text/plain": [
              "<Figure size 432x288 with 1 Axes>"
            ]
          },
          "metadata": {
            "tags": [],
            "needs_background": "light"
          }
        }
      ]
    },
    {
      "cell_type": "markdown",
      "metadata": {
        "id": "7jacjWCUly2b"
      },
      "source": [
        ""
      ]
    }
  ]
}
